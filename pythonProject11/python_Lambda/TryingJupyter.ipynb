{
 "cells": [
  {
   "cell_type": "code",
   "execution_count": 12,
   "outputs": [
    {
     "name": "stdout",
     "output_type": "stream",
     "text": [
      "Hi, am the independent computer(Turing test)! What's your problem?\n",
      "Well, you've to now!\n",
      "yOU ARE welcome\n"
     ]
    }
   ],
   "source": [
    "\n",
    "print(\"Hi, am the independent computer(Turing test)! What's your problem?\")\n",
    "\n",
    "EnterNumber = (input(\"Write here!: \"))\n",
    "\n",
    "answer = input(\"You've this problem before YES/NO (Enter 'YES' or 'NO'): \")\n",
    "\n",
    "if answer == 'yes':\n",
    "    print(\"Well, you've it again!\")\n",
    "\n",
    "else:\n",
    "    print(\"Well, you've to now!\")\n",
    "\n",
    "userInput3 = (input(\"Press any key (enter key) to quit this program!: \"))\n",
    "\n",
    "print(input(\"Thanks for having you here.\"))"
   ],
   "metadata": {
    "collapsed": false,
    "pycharm": {
     "name": "#%%\n"
    }
   }
  }
 ],
 "metadata": {
  "kernelspec": {
   "display_name": "Python 3",
   "language": "python",
   "name": "python3"
  },
  "language_info": {
   "codemirror_mode": {
    "name": "ipython",
    "version": 2
   },
   "file_extension": ".py",
   "mimetype": "text/x-python",
   "name": "python",
   "nbconvert_exporter": "python",
   "pygments_lexer": "ipython2",
   "version": "2.7.6"
  }
 },
 "nbformat": 4,
 "nbformat_minor": 0
}